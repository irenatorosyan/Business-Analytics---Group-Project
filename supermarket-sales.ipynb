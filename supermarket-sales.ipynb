{
 "cells": [
  {
   "cell_type": "markdown",
   "metadata": {
    "id": "urZ2Jw3Iz6Ck"
   },
   "source": [
    "## Loading Data & Libraries"
   ]
  },
  {
   "cell_type": "code",
   "execution_count": 1,
   "metadata": {
    "execution": {
     "iopub.execute_input": "2023-11-04T23:20:24.615821Z",
     "iopub.status.busy": "2023-11-04T23:20:24.615408Z",
     "iopub.status.idle": "2023-11-04T23:20:24.625345Z",
     "shell.execute_reply": "2023-11-04T23:20:24.623632Z",
     "shell.execute_reply.started": "2023-11-04T23:20:24.615789Z"
    },
    "executionInfo": {
     "elapsed": 1606,
     "status": "ok",
     "timestamp": 1700384491647,
     "user": {
      "displayName": "Astghik Kostanyan",
      "userId": "15602723312680196541"
     },
     "user_tz": -240
    },
    "id": "M_eWlvs0z6Cm"
   },
   "outputs": [],
   "source": [
    "# import libraries\n",
    "\n",
    "import pandas as pd\n",
    "import numpy as np\n",
    "import matplotlib.pyplot as plt\n",
    "import seaborn as sns\n",
    "\n",
    "# set style of visualization\n",
    "sns.set_style(\"whitegrid\")\n",
    "sns.set_palette(\"RdBu\")"
   ]
  },
  {
   "cell_type": "code",
   "execution_count": 2,
   "metadata": {
    "colab": {
     "base_uri": "https://localhost:8080/",
     "height": 74
    },
    "executionInfo": {
     "elapsed": 8554,
     "status": "ok",
     "timestamp": 1700384549417,
     "user": {
      "displayName": "Astghik Kostanyan",
      "userId": "15602723312680196541"
     },
     "user_tz": -240
    },
    "id": "4YvgRxzF0P0c",
    "outputId": "3f71d3dd-5445-45ee-8896-ae8f94a4fe6b"
   },
   "outputs": [],
   "source": [
    "# from google.colab import files\n",
    "# uploaded = files.upload()"
   ]
  },
  {
   "cell_type": "code",
   "execution_count": 3,
   "metadata": {
    "execution": {
     "iopub.execute_input": "2023-11-04T23:20:24.629513Z",
     "iopub.status.busy": "2023-11-04T23:20:24.628002Z",
     "iopub.status.idle": "2023-11-04T23:20:24.662129Z",
     "shell.execute_reply": "2023-11-04T23:20:24.661312Z",
     "shell.execute_reply.started": "2023-11-04T23:20:24.629449Z"
    },
    "executionInfo": {
     "elapsed": 308,
     "status": "ok",
     "timestamp": 1700384562958,
     "user": {
      "displayName": "Astghik Kostanyan",
      "userId": "15602723312680196541"
     },
     "user_tz": -240
    },
    "id": "LATMdRqmz6Cn"
   },
   "outputs": [],
   "source": [
    "# read data set\n",
    "\n",
    "data = pd.read_csv(\"supermarket_sales.csv\")"
   ]
  },
  {
   "cell_type": "code",
   "execution_count": 4,
   "metadata": {
    "colab": {
     "base_uri": "https://localhost:8080/",
     "height": 258
    },
    "execution": {
     "iopub.execute_input": "2023-11-04T23:20:24.665561Z",
     "iopub.status.busy": "2023-11-04T23:20:24.66381Z",
     "iopub.status.idle": "2023-11-04T23:20:24.696426Z",
     "shell.execute_reply": "2023-11-04T23:20:24.695332Z",
     "shell.execute_reply.started": "2023-11-04T23:20:24.665507Z"
    },
    "executionInfo": {
     "elapsed": 470,
     "status": "ok",
     "timestamp": 1700384563744,
     "user": {
      "displayName": "Astghik Kostanyan",
      "userId": "15602723312680196541"
     },
     "user_tz": -240
    },
    "id": "XEq0hwAOz6Cn",
    "outputId": "0de3c246-486e-403d-e9ed-d5909d5391fc",
    "scrolled": true
   },
   "outputs": [
    {
     "data": {
      "text/html": [
       "<div>\n",
       "<style scoped>\n",
       "    .dataframe tbody tr th:only-of-type {\n",
       "        vertical-align: middle;\n",
       "    }\n",
       "\n",
       "    .dataframe tbody tr th {\n",
       "        vertical-align: top;\n",
       "    }\n",
       "\n",
       "    .dataframe thead th {\n",
       "        text-align: right;\n",
       "    }\n",
       "</style>\n",
       "<table border=\"1\" class=\"dataframe\">\n",
       "  <thead>\n",
       "    <tr style=\"text-align: right;\">\n",
       "      <th></th>\n",
       "      <th>Invoice ID</th>\n",
       "      <th>Branch</th>\n",
       "      <th>City</th>\n",
       "      <th>Customer type</th>\n",
       "      <th>Gender</th>\n",
       "      <th>Product line</th>\n",
       "      <th>Unit price</th>\n",
       "      <th>Quantity</th>\n",
       "      <th>Tax 5%</th>\n",
       "      <th>Total</th>\n",
       "      <th>Date</th>\n",
       "      <th>Time</th>\n",
       "      <th>Payment</th>\n",
       "      <th>cogs</th>\n",
       "      <th>gross margin percentage</th>\n",
       "      <th>gross income</th>\n",
       "      <th>Rating</th>\n",
       "    </tr>\n",
       "  </thead>\n",
       "  <tbody>\n",
       "    <tr>\n",
       "      <th>0</th>\n",
       "      <td>750-67-8428</td>\n",
       "      <td>A</td>\n",
       "      <td>Yangon</td>\n",
       "      <td>Member</td>\n",
       "      <td>Female</td>\n",
       "      <td>Health and beauty</td>\n",
       "      <td>74.69</td>\n",
       "      <td>7</td>\n",
       "      <td>26.1415</td>\n",
       "      <td>548.9715</td>\n",
       "      <td>1/5/2019</td>\n",
       "      <td>13:08</td>\n",
       "      <td>Ewallet</td>\n",
       "      <td>522.83</td>\n",
       "      <td>4.761905</td>\n",
       "      <td>26.1415</td>\n",
       "      <td>9.1</td>\n",
       "    </tr>\n",
       "    <tr>\n",
       "      <th>1</th>\n",
       "      <td>226-31-3081</td>\n",
       "      <td>C</td>\n",
       "      <td>Naypyitaw</td>\n",
       "      <td>Normal</td>\n",
       "      <td>Female</td>\n",
       "      <td>Electronic accessories</td>\n",
       "      <td>15.28</td>\n",
       "      <td>5</td>\n",
       "      <td>3.8200</td>\n",
       "      <td>80.2200</td>\n",
       "      <td>3/8/2019</td>\n",
       "      <td>10:29</td>\n",
       "      <td>Cash</td>\n",
       "      <td>76.40</td>\n",
       "      <td>4.761905</td>\n",
       "      <td>3.8200</td>\n",
       "      <td>9.6</td>\n",
       "    </tr>\n",
       "    <tr>\n",
       "      <th>2</th>\n",
       "      <td>631-41-3108</td>\n",
       "      <td>A</td>\n",
       "      <td>Yangon</td>\n",
       "      <td>Normal</td>\n",
       "      <td>Male</td>\n",
       "      <td>Home and lifestyle</td>\n",
       "      <td>46.33</td>\n",
       "      <td>7</td>\n",
       "      <td>16.2155</td>\n",
       "      <td>340.5255</td>\n",
       "      <td>3/3/2019</td>\n",
       "      <td>13:23</td>\n",
       "      <td>Credit card</td>\n",
       "      <td>324.31</td>\n",
       "      <td>4.761905</td>\n",
       "      <td>16.2155</td>\n",
       "      <td>7.4</td>\n",
       "    </tr>\n",
       "    <tr>\n",
       "      <th>3</th>\n",
       "      <td>123-19-1176</td>\n",
       "      <td>A</td>\n",
       "      <td>Yangon</td>\n",
       "      <td>Member</td>\n",
       "      <td>Male</td>\n",
       "      <td>Health and beauty</td>\n",
       "      <td>58.22</td>\n",
       "      <td>8</td>\n",
       "      <td>23.2880</td>\n",
       "      <td>489.0480</td>\n",
       "      <td>1/27/2019</td>\n",
       "      <td>20:33</td>\n",
       "      <td>Ewallet</td>\n",
       "      <td>465.76</td>\n",
       "      <td>4.761905</td>\n",
       "      <td>23.2880</td>\n",
       "      <td>8.4</td>\n",
       "    </tr>\n",
       "    <tr>\n",
       "      <th>4</th>\n",
       "      <td>373-73-7910</td>\n",
       "      <td>A</td>\n",
       "      <td>Yangon</td>\n",
       "      <td>Normal</td>\n",
       "      <td>Male</td>\n",
       "      <td>Sports and travel</td>\n",
       "      <td>86.31</td>\n",
       "      <td>7</td>\n",
       "      <td>30.2085</td>\n",
       "      <td>634.3785</td>\n",
       "      <td>2/8/2019</td>\n",
       "      <td>10:37</td>\n",
       "      <td>Ewallet</td>\n",
       "      <td>604.17</td>\n",
       "      <td>4.761905</td>\n",
       "      <td>30.2085</td>\n",
       "      <td>5.3</td>\n",
       "    </tr>\n",
       "  </tbody>\n",
       "</table>\n",
       "</div>"
      ],
      "text/plain": [
       "    Invoice ID Branch       City Customer type  Gender  \\\n",
       "0  750-67-8428      A     Yangon        Member  Female   \n",
       "1  226-31-3081      C  Naypyitaw        Normal  Female   \n",
       "2  631-41-3108      A     Yangon        Normal    Male   \n",
       "3  123-19-1176      A     Yangon        Member    Male   \n",
       "4  373-73-7910      A     Yangon        Normal    Male   \n",
       "\n",
       "             Product line  Unit price  Quantity   Tax 5%     Total       Date  \\\n",
       "0       Health and beauty       74.69         7  26.1415  548.9715   1/5/2019   \n",
       "1  Electronic accessories       15.28         5   3.8200   80.2200   3/8/2019   \n",
       "2      Home and lifestyle       46.33         7  16.2155  340.5255   3/3/2019   \n",
       "3       Health and beauty       58.22         8  23.2880  489.0480  1/27/2019   \n",
       "4       Sports and travel       86.31         7  30.2085  634.3785   2/8/2019   \n",
       "\n",
       "    Time      Payment    cogs  gross margin percentage  gross income  Rating  \n",
       "0  13:08      Ewallet  522.83                 4.761905       26.1415     9.1  \n",
       "1  10:29         Cash   76.40                 4.761905        3.8200     9.6  \n",
       "2  13:23  Credit card  324.31                 4.761905       16.2155     7.4  \n",
       "3  20:33      Ewallet  465.76                 4.761905       23.2880     8.4  \n",
       "4  10:37      Ewallet  604.17                 4.761905       30.2085     5.3  "
      ]
     },
     "execution_count": 4,
     "metadata": {},
     "output_type": "execute_result"
    }
   ],
   "source": [
    "# see top 5 rows\n",
    "\n",
    "data.head()"
   ]
  },
  {
   "cell_type": "code",
   "execution_count": 5,
   "metadata": {
    "colab": {
     "base_uri": "https://localhost:8080/"
    },
    "execution": {
     "iopub.execute_input": "2023-11-04T23:20:24.698539Z",
     "iopub.status.busy": "2023-11-04T23:20:24.697891Z",
     "iopub.status.idle": "2023-11-04T23:20:24.705853Z",
     "shell.execute_reply": "2023-11-04T23:20:24.704783Z",
     "shell.execute_reply.started": "2023-11-04T23:20:24.698501Z"
    },
    "executionInfo": {
     "elapsed": 14,
     "status": "ok",
     "timestamp": 1700384563744,
     "user": {
      "displayName": "Astghik Kostanyan",
      "userId": "15602723312680196541"
     },
     "user_tz": -240
    },
    "id": "HA0Albt5z6Co",
    "outputId": "d7bffa62-29d2-4deb-91b9-70d45cc93af2"
   },
   "outputs": [
    {
     "data": {
      "text/plain": [
       "(1000, 17)"
      ]
     },
     "execution_count": 5,
     "metadata": {},
     "output_type": "execute_result"
    }
   ],
   "source": [
    "# see Dimension of data\n",
    "\n",
    "data.shape"
   ]
  },
  {
   "cell_type": "code",
   "execution_count": 6,
   "metadata": {
    "colab": {
     "base_uri": "https://localhost:8080/"
    },
    "execution": {
     "iopub.execute_input": "2023-11-04T23:20:24.70877Z",
     "iopub.status.busy": "2023-11-04T23:20:24.708356Z",
     "iopub.status.idle": "2023-11-04T23:20:24.741563Z",
     "shell.execute_reply": "2023-11-04T23:20:24.740198Z",
     "shell.execute_reply.started": "2023-11-04T23:20:24.708733Z"
    },
    "executionInfo": {
     "elapsed": 13,
     "status": "ok",
     "timestamp": 1700384563745,
     "user": {
      "displayName": "Astghik Kostanyan",
      "userId": "15602723312680196541"
     },
     "user_tz": -240
    },
    "id": "fxpxXOTgz6Co",
    "outputId": "277ee90c-1304-4faa-a31c-26b9a26d7353"
   },
   "outputs": [
    {
     "name": "stdout",
     "output_type": "stream",
     "text": [
      "<class 'pandas.core.frame.DataFrame'>\n",
      "RangeIndex: 1000 entries, 0 to 999\n",
      "Data columns (total 17 columns):\n",
      " #   Column                   Non-Null Count  Dtype  \n",
      "---  ------                   --------------  -----  \n",
      " 0   Invoice ID               1000 non-null   object \n",
      " 1   Branch                   1000 non-null   object \n",
      " 2   City                     1000 non-null   object \n",
      " 3   Customer type            1000 non-null   object \n",
      " 4   Gender                   1000 non-null   object \n",
      " 5   Product line             1000 non-null   object \n",
      " 6   Unit price               1000 non-null   float64\n",
      " 7   Quantity                 1000 non-null   int64  \n",
      " 8   Tax 5%                   1000 non-null   float64\n",
      " 9   Total                    1000 non-null   float64\n",
      " 10  Date                     1000 non-null   object \n",
      " 11  Time                     1000 non-null   object \n",
      " 12  Payment                  1000 non-null   object \n",
      " 13  cogs                     1000 non-null   float64\n",
      " 14  gross margin percentage  1000 non-null   float64\n",
      " 15  gross income             1000 non-null   float64\n",
      " 16  Rating                   1000 non-null   float64\n",
      "dtypes: float64(7), int64(1), object(9)\n",
      "memory usage: 132.9+ KB\n"
     ]
    }
   ],
   "source": [
    "# see column data type and some info\n",
    "\n",
    "data.info()"
   ]
  },
  {
   "cell_type": "code",
   "execution_count": 7,
   "metadata": {
    "colab": {
     "base_uri": "https://localhost:8080/"
    },
    "execution": {
     "iopub.execute_input": "2023-11-04T23:20:24.744076Z",
     "iopub.status.busy": "2023-11-04T23:20:24.743653Z",
     "iopub.status.idle": "2023-11-04T23:20:24.755103Z",
     "shell.execute_reply": "2023-11-04T23:20:24.753671Z",
     "shell.execute_reply.started": "2023-11-04T23:20:24.744021Z"
    },
    "executionInfo": {
     "elapsed": 12,
     "status": "ok",
     "timestamp": 1700384563745,
     "user": {
      "displayName": "Astghik Kostanyan",
      "userId": "15602723312680196541"
     },
     "user_tz": -240
    },
    "id": "3pnokE-gz6Co",
    "outputId": "66e79d4a-efcb-4781-8f9d-2853b105b83c"
   },
   "outputs": [
    {
     "data": {
      "text/plain": [
       "Invoice ID                 0.0\n",
       "Branch                     0.0\n",
       "City                       0.0\n",
       "Customer type              0.0\n",
       "Gender                     0.0\n",
       "Product line               0.0\n",
       "Unit price                 0.0\n",
       "Quantity                   0.0\n",
       "Tax 5%                     0.0\n",
       "Total                      0.0\n",
       "Date                       0.0\n",
       "Time                       0.0\n",
       "Payment                    0.0\n",
       "cogs                       0.0\n",
       "gross margin percentage    0.0\n",
       "gross income               0.0\n",
       "Rating                     0.0\n",
       "dtype: float64"
      ]
     },
     "execution_count": 7,
     "metadata": {},
     "output_type": "execute_result"
    }
   ],
   "source": [
    "# see precentege of missing value in each column\n",
    "\n",
    "data.isna().sum() / data.shape[0]"
   ]
  },
  {
   "cell_type": "code",
   "execution_count": 8,
   "metadata": {
    "colab": {
     "base_uri": "https://localhost:8080/"
    },
    "execution": {
     "iopub.execute_input": "2023-11-04T23:20:24.757543Z",
     "iopub.status.busy": "2023-11-04T23:20:24.757161Z",
     "iopub.status.idle": "2023-11-04T23:20:24.775775Z",
     "shell.execute_reply": "2023-11-04T23:20:24.774121Z",
     "shell.execute_reply.started": "2023-11-04T23:20:24.757509Z"
    },
    "executionInfo": {
     "elapsed": 11,
     "status": "ok",
     "timestamp": 1700384563745,
     "user": {
      "displayName": "Astghik Kostanyan",
      "userId": "15602723312680196541"
     },
     "user_tz": -240
    },
    "id": "AEhZEZKIz6Co",
    "outputId": "b1669887-ee2c-425a-88bf-d970c2618500"
   },
   "outputs": [
    {
     "data": {
      "text/plain": [
       "False"
      ]
     },
     "execution_count": 8,
     "metadata": {},
     "output_type": "execute_result"
    }
   ],
   "source": [
    "# check if duplicated in data\n",
    "\n",
    "data.duplicated().any()"
   ]
  },
  {
   "cell_type": "code",
   "execution_count": 9,
   "metadata": {
    "colab": {
     "base_uri": "https://localhost:8080/",
     "height": 300
    },
    "execution": {
     "iopub.execute_input": "2023-11-04T23:20:24.779336Z",
     "iopub.status.busy": "2023-11-04T23:20:24.778412Z",
     "iopub.status.idle": "2023-11-04T23:20:24.813874Z",
     "shell.execute_reply": "2023-11-04T23:20:24.812842Z",
     "shell.execute_reply.started": "2023-11-04T23:20:24.779288Z"
    },
    "executionInfo": {
     "elapsed": 10,
     "status": "ok",
     "timestamp": 1700384563745,
     "user": {
      "displayName": "Astghik Kostanyan",
      "userId": "15602723312680196541"
     },
     "user_tz": -240
    },
    "id": "H9x5U0m5z6Co",
    "outputId": "8814c19c-4c90-4f8a-9560-c4c2568de65d"
   },
   "outputs": [
    {
     "data": {
      "text/html": [
       "<div>\n",
       "<style scoped>\n",
       "    .dataframe tbody tr th:only-of-type {\n",
       "        vertical-align: middle;\n",
       "    }\n",
       "\n",
       "    .dataframe tbody tr th {\n",
       "        vertical-align: top;\n",
       "    }\n",
       "\n",
       "    .dataframe thead th {\n",
       "        text-align: right;\n",
       "    }\n",
       "</style>\n",
       "<table border=\"1\" class=\"dataframe\">\n",
       "  <thead>\n",
       "    <tr style=\"text-align: right;\">\n",
       "      <th></th>\n",
       "      <th>Unit price</th>\n",
       "      <th>Quantity</th>\n",
       "      <th>Tax 5%</th>\n",
       "      <th>Total</th>\n",
       "      <th>cogs</th>\n",
       "      <th>gross margin percentage</th>\n",
       "      <th>gross income</th>\n",
       "      <th>Rating</th>\n",
       "    </tr>\n",
       "  </thead>\n",
       "  <tbody>\n",
       "    <tr>\n",
       "      <th>count</th>\n",
       "      <td>1000.000000</td>\n",
       "      <td>1000.000000</td>\n",
       "      <td>1000.000000</td>\n",
       "      <td>1000.000000</td>\n",
       "      <td>1000.00000</td>\n",
       "      <td>1.000000e+03</td>\n",
       "      <td>1000.000000</td>\n",
       "      <td>1000.00000</td>\n",
       "    </tr>\n",
       "    <tr>\n",
       "      <th>mean</th>\n",
       "      <td>55.672130</td>\n",
       "      <td>5.510000</td>\n",
       "      <td>15.379369</td>\n",
       "      <td>322.966749</td>\n",
       "      <td>307.58738</td>\n",
       "      <td>4.761905e+00</td>\n",
       "      <td>15.379369</td>\n",
       "      <td>6.97270</td>\n",
       "    </tr>\n",
       "    <tr>\n",
       "      <th>std</th>\n",
       "      <td>26.494628</td>\n",
       "      <td>2.923431</td>\n",
       "      <td>11.708825</td>\n",
       "      <td>245.885335</td>\n",
       "      <td>234.17651</td>\n",
       "      <td>6.131498e-14</td>\n",
       "      <td>11.708825</td>\n",
       "      <td>1.71858</td>\n",
       "    </tr>\n",
       "    <tr>\n",
       "      <th>min</th>\n",
       "      <td>10.080000</td>\n",
       "      <td>1.000000</td>\n",
       "      <td>0.508500</td>\n",
       "      <td>10.678500</td>\n",
       "      <td>10.17000</td>\n",
       "      <td>4.761905e+00</td>\n",
       "      <td>0.508500</td>\n",
       "      <td>4.00000</td>\n",
       "    </tr>\n",
       "    <tr>\n",
       "      <th>25%</th>\n",
       "      <td>32.875000</td>\n",
       "      <td>3.000000</td>\n",
       "      <td>5.924875</td>\n",
       "      <td>124.422375</td>\n",
       "      <td>118.49750</td>\n",
       "      <td>4.761905e+00</td>\n",
       "      <td>5.924875</td>\n",
       "      <td>5.50000</td>\n",
       "    </tr>\n",
       "    <tr>\n",
       "      <th>50%</th>\n",
       "      <td>55.230000</td>\n",
       "      <td>5.000000</td>\n",
       "      <td>12.088000</td>\n",
       "      <td>253.848000</td>\n",
       "      <td>241.76000</td>\n",
       "      <td>4.761905e+00</td>\n",
       "      <td>12.088000</td>\n",
       "      <td>7.00000</td>\n",
       "    </tr>\n",
       "    <tr>\n",
       "      <th>75%</th>\n",
       "      <td>77.935000</td>\n",
       "      <td>8.000000</td>\n",
       "      <td>22.445250</td>\n",
       "      <td>471.350250</td>\n",
       "      <td>448.90500</td>\n",
       "      <td>4.761905e+00</td>\n",
       "      <td>22.445250</td>\n",
       "      <td>8.50000</td>\n",
       "    </tr>\n",
       "    <tr>\n",
       "      <th>max</th>\n",
       "      <td>99.960000</td>\n",
       "      <td>10.000000</td>\n",
       "      <td>49.650000</td>\n",
       "      <td>1042.650000</td>\n",
       "      <td>993.00000</td>\n",
       "      <td>4.761905e+00</td>\n",
       "      <td>49.650000</td>\n",
       "      <td>10.00000</td>\n",
       "    </tr>\n",
       "  </tbody>\n",
       "</table>\n",
       "</div>"
      ],
      "text/plain": [
       "        Unit price     Quantity       Tax 5%        Total        cogs  \\\n",
       "count  1000.000000  1000.000000  1000.000000  1000.000000  1000.00000   \n",
       "mean     55.672130     5.510000    15.379369   322.966749   307.58738   \n",
       "std      26.494628     2.923431    11.708825   245.885335   234.17651   \n",
       "min      10.080000     1.000000     0.508500    10.678500    10.17000   \n",
       "25%      32.875000     3.000000     5.924875   124.422375   118.49750   \n",
       "50%      55.230000     5.000000    12.088000   253.848000   241.76000   \n",
       "75%      77.935000     8.000000    22.445250   471.350250   448.90500   \n",
       "max      99.960000    10.000000    49.650000  1042.650000   993.00000   \n",
       "\n",
       "       gross margin percentage  gross income      Rating  \n",
       "count             1.000000e+03   1000.000000  1000.00000  \n",
       "mean              4.761905e+00     15.379369     6.97270  \n",
       "std               6.131498e-14     11.708825     1.71858  \n",
       "min               4.761905e+00      0.508500     4.00000  \n",
       "25%               4.761905e+00      5.924875     5.50000  \n",
       "50%               4.761905e+00     12.088000     7.00000  \n",
       "75%               4.761905e+00     22.445250     8.50000  \n",
       "max               4.761905e+00     49.650000    10.00000  "
      ]
     },
     "execution_count": 9,
     "metadata": {},
     "output_type": "execute_result"
    }
   ],
   "source": [
    "# see quick info of numeric values\n",
    "\n",
    "data.describe()"
   ]
  },
  {
   "cell_type": "code",
   "execution_count": 10,
   "metadata": {
    "colab": {
     "base_uri": "https://localhost:8080/",
     "height": 175
    },
    "execution": {
     "iopub.execute_input": "2023-11-04T23:20:24.815544Z",
     "iopub.status.busy": "2023-11-04T23:20:24.815256Z",
     "iopub.status.idle": "2023-11-04T23:20:24.849528Z",
     "shell.execute_reply": "2023-11-04T23:20:24.848202Z",
     "shell.execute_reply.started": "2023-11-04T23:20:24.815519Z"
    },
    "executionInfo": {
     "elapsed": 9,
     "status": "ok",
     "timestamp": 1700384563745,
     "user": {
      "displayName": "Astghik Kostanyan",
      "userId": "15602723312680196541"
     },
     "user_tz": -240
    },
    "id": "OaYnHz3Xz6Cp",
    "outputId": "5c5dae74-c08a-40bb-a202-9412b66d681c"
   },
   "outputs": [
    {
     "data": {
      "text/html": [
       "<div>\n",
       "<style scoped>\n",
       "    .dataframe tbody tr th:only-of-type {\n",
       "        vertical-align: middle;\n",
       "    }\n",
       "\n",
       "    .dataframe tbody tr th {\n",
       "        vertical-align: top;\n",
       "    }\n",
       "\n",
       "    .dataframe thead th {\n",
       "        text-align: right;\n",
       "    }\n",
       "</style>\n",
       "<table border=\"1\" class=\"dataframe\">\n",
       "  <thead>\n",
       "    <tr style=\"text-align: right;\">\n",
       "      <th></th>\n",
       "      <th>Invoice ID</th>\n",
       "      <th>Branch</th>\n",
       "      <th>City</th>\n",
       "      <th>Customer type</th>\n",
       "      <th>Gender</th>\n",
       "      <th>Product line</th>\n",
       "      <th>Date</th>\n",
       "      <th>Time</th>\n",
       "      <th>Payment</th>\n",
       "    </tr>\n",
       "  </thead>\n",
       "  <tbody>\n",
       "    <tr>\n",
       "      <th>count</th>\n",
       "      <td>1000</td>\n",
       "      <td>1000</td>\n",
       "      <td>1000</td>\n",
       "      <td>1000</td>\n",
       "      <td>1000</td>\n",
       "      <td>1000</td>\n",
       "      <td>1000</td>\n",
       "      <td>1000</td>\n",
       "      <td>1000</td>\n",
       "    </tr>\n",
       "    <tr>\n",
       "      <th>unique</th>\n",
       "      <td>1000</td>\n",
       "      <td>3</td>\n",
       "      <td>3</td>\n",
       "      <td>2</td>\n",
       "      <td>2</td>\n",
       "      <td>6</td>\n",
       "      <td>89</td>\n",
       "      <td>506</td>\n",
       "      <td>3</td>\n",
       "    </tr>\n",
       "    <tr>\n",
       "      <th>top</th>\n",
       "      <td>750-67-8428</td>\n",
       "      <td>A</td>\n",
       "      <td>Yangon</td>\n",
       "      <td>Member</td>\n",
       "      <td>Female</td>\n",
       "      <td>Fashion accessories</td>\n",
       "      <td>2/7/2019</td>\n",
       "      <td>19:48</td>\n",
       "      <td>Ewallet</td>\n",
       "    </tr>\n",
       "    <tr>\n",
       "      <th>freq</th>\n",
       "      <td>1</td>\n",
       "      <td>340</td>\n",
       "      <td>340</td>\n",
       "      <td>501</td>\n",
       "      <td>501</td>\n",
       "      <td>178</td>\n",
       "      <td>20</td>\n",
       "      <td>7</td>\n",
       "      <td>345</td>\n",
       "    </tr>\n",
       "  </tbody>\n",
       "</table>\n",
       "</div>"
      ],
      "text/plain": [
       "         Invoice ID Branch    City Customer type  Gender         Product line  \\\n",
       "count          1000   1000    1000          1000    1000                 1000   \n",
       "unique         1000      3       3             2       2                    6   \n",
       "top     750-67-8428      A  Yangon        Member  Female  Fashion accessories   \n",
       "freq              1    340     340           501     501                  178   \n",
       "\n",
       "            Date   Time  Payment  \n",
       "count       1000   1000     1000  \n",
       "unique        89    506        3  \n",
       "top     2/7/2019  19:48  Ewallet  \n",
       "freq          20      7      345  "
      ]
     },
     "execution_count": 10,
     "metadata": {},
     "output_type": "execute_result"
    }
   ],
   "source": [
    "# see quick info of category values\n",
    "\n",
    "data.describe(include = object)"
   ]
  },
  {
   "cell_type": "markdown",
   "metadata": {
    "id": "3kico1eez6Cp"
   },
   "source": [
    "### Above cells' conclusion\n",
    "\n",
    "- Dataset no missing values\n",
    "- Dataset has no complete duplicates\n",
    "- We need to remove some columns not use\n",
    "- We need to modify some column data type"
   ]
  },
  {
   "cell_type": "code",
   "execution_count": 11,
   "metadata": {
    "execution": {
     "iopub.execute_input": "2023-11-04T23:20:24.851902Z",
     "iopub.status.busy": "2023-11-04T23:20:24.851599Z",
     "iopub.status.idle": "2023-11-04T23:20:24.859447Z",
     "shell.execute_reply": "2023-11-04T23:20:24.857882Z",
     "shell.execute_reply.started": "2023-11-04T23:20:24.851875Z"
    },
    "executionInfo": {
     "elapsed": 8,
     "status": "ok",
     "timestamp": 1700384563745,
     "user": {
      "displayName": "Astghik Kostanyan",
      "userId": "15602723312680196541"
     },
     "user_tz": -240
    },
    "id": "Zr52zyncz6Cp"
   },
   "outputs": [],
   "source": [
    "# create function to visualized categorical column using count plot\n",
    "\n",
    "def count_plot(x_axis, hue = None, rotation = 0):\n",
    "    \"\"\"\n",
    "    1) input : x_axis, column name, data type must be object or categorical\n",
    "    3) output : cout plot using seaborn modules, unique values in x-axis and frequency in y-axis\n",
    "    4) use bar_label to show frequency of each unique values above each column in graph\n",
    "    \"\"\"\n",
    "    graph = sns.countplot(x = x_axis, data = data, hue = hue, order = data[x_axis].value_counts().index)\n",
    "    for container in graph.containers:\n",
    "        graph.bar_label(container)\n",
    "\n",
    "\n",
    "    plt.xticks(rotation = rotation)\n",
    "    plt.show()"
   ]
  },
  {
   "cell_type": "code",
   "execution_count": 12,
   "metadata": {
    "execution": {
     "iopub.execute_input": "2023-11-04T23:20:24.861904Z",
     "iopub.status.busy": "2023-11-04T23:20:24.861421Z",
     "iopub.status.idle": "2023-11-04T23:20:24.870715Z",
     "shell.execute_reply": "2023-11-04T23:20:24.869281Z",
     "shell.execute_reply.started": "2023-11-04T23:20:24.861861Z"
    },
    "executionInfo": {
     "elapsed": 8,
     "status": "ok",
     "timestamp": 1700384563745,
     "user": {
      "displayName": "Astghik Kostanyan",
      "userId": "15602723312680196541"
     },
     "user_tz": -240
    },
    "id": "lXKez9yLz6Cp"
   },
   "outputs": [],
   "source": [
    "# create function that visualized categorical column using pie plot\n",
    "\n",
    "def pie_plot(column_name):\n",
    "    \"\"\"\n",
    "    1) input : column name, column data type must be object or categorical\n",
    "    2) output : circle chart that shows size of each unique values and percentage\n",
    "    \"\"\"\n",
    "    plt.pie(data[column_name].value_counts(), labels = data[column_name].value_counts().index, shadow = True, autopct = \"%1.1f%%\")\n",
    "    plt.show()"
   ]
  },
  {
   "cell_type": "code",
   "execution_count": 13,
   "metadata": {
    "execution": {
     "iopub.execute_input": "2023-11-04T23:20:24.873101Z",
     "iopub.status.busy": "2023-11-04T23:20:24.872664Z",
     "iopub.status.idle": "2023-11-04T23:20:24.885485Z",
     "shell.execute_reply": "2023-11-04T23:20:24.884432Z",
     "shell.execute_reply.started": "2023-11-04T23:20:24.873046Z"
    },
    "executionInfo": {
     "elapsed": 8,
     "status": "ok",
     "timestamp": 1700384563745,
     "user": {
      "displayName": "Astghik Kostanyan",
      "userId": "15602723312680196541"
     },
     "user_tz": -240
    },
    "id": "4-8VEVXzz6Cp"
   },
   "outputs": [],
   "source": [
    "# create function that visualized numeric columns using box plot\n",
    "\n",
    "def box_plot(x_axis = None, y_axis = None, hue = None, col = None):\n",
    "    \"\"\"\n",
    "    input : x_axis, y_axis and hue column, column data type must be numeric in y_axis\n",
    "    output : box plot to see distribution of column values such as min,max,mean,medien,std\n",
    "    \"\"\"\n",
    "    sns.catplot(x = x_axis, y = y_axis, data = data, hue = hue, kind = \"box\", col = col)\n",
    "    plt.xlabel(x_axis)\n",
    "    plt.ylabel(\"FRQ\")\n",
    "    plt.show()"
   ]
  },
  {
   "cell_type": "markdown",
   "metadata": {
    "id": "dsx-ITcRz6Cp"
   },
   "source": [
    "## Cleaning"
   ]
  },
  {
   "cell_type": "code",
   "execution_count": 14,
   "metadata": {
    "execution": {
     "iopub.execute_input": "2023-11-04T23:20:24.88691Z",
     "iopub.status.busy": "2023-11-04T23:20:24.886573Z",
     "iopub.status.idle": "2023-11-04T23:20:24.906973Z",
     "shell.execute_reply": "2023-11-04T23:20:24.906126Z",
     "shell.execute_reply.started": "2023-11-04T23:20:24.886881Z"
    },
    "executionInfo": {
     "elapsed": 8,
     "status": "ok",
     "timestamp": 1700384563745,
     "user": {
      "displayName": "Astghik Kostanyan",
      "userId": "15602723312680196541"
     },
     "user_tz": -240
    },
    "id": "YmTfQr-cz6Cp"
   },
   "outputs": [],
   "source": [
    "# convert data column to datetime\n",
    "\n",
    "data[\"Date\"] = pd.to_datetime(data[\"Date\"])"
   ]
  },
  {
   "cell_type": "code",
   "execution_count": 15,
   "metadata": {
    "execution": {
     "iopub.execute_input": "2023-11-04T23:20:24.909735Z",
     "iopub.status.busy": "2023-11-04T23:20:24.909305Z",
     "iopub.status.idle": "2023-11-04T23:20:24.921883Z",
     "shell.execute_reply": "2023-11-04T23:20:24.920793Z",
     "shell.execute_reply.started": "2023-11-04T23:20:24.909693Z"
    },
    "executionInfo": {
     "elapsed": 8,
     "status": "ok",
     "timestamp": 1700384563745,
     "user": {
      "displayName": "Astghik Kostanyan",
      "userId": "15602723312680196541"
     },
     "user_tz": -240
    },
    "id": "TyRnXEi8z6Cp"
   },
   "outputs": [],
   "source": [
    "# add new column Month\n",
    "\n",
    "data[\"Month\"] = data[\"Date\"].dt.month"
   ]
  },
  {
   "cell_type": "code",
   "execution_count": 16,
   "metadata": {
    "execution": {
     "iopub.execute_input": "2023-11-04T23:20:24.927381Z",
     "iopub.status.busy": "2023-11-04T23:20:24.926518Z",
     "iopub.status.idle": "2023-11-04T23:20:24.938445Z",
     "shell.execute_reply": "2023-11-04T23:20:24.937216Z",
     "shell.execute_reply.started": "2023-11-04T23:20:24.927337Z"
    },
    "executionInfo": {
     "elapsed": 8,
     "status": "ok",
     "timestamp": 1700384563745,
     "user": {
      "displayName": "Astghik Kostanyan",
      "userId": "15602723312680196541"
     },
     "user_tz": -240
    },
    "id": "dX_Y-xlGz6Cp"
   },
   "outputs": [],
   "source": [
    "# drop invoice ID column\n",
    "\n",
    "data.drop(columns = [\"Invoice ID\",\"cogs\", \"gross margin percentage\", \"Date\", \"Time\"], inplace = True)"
   ]
  },
  {
   "cell_type": "code",
   "execution_count": 17,
   "metadata": {
    "colab": {
     "base_uri": "https://localhost:8080/",
     "height": 112
    },
    "execution": {
     "iopub.execute_input": "2023-11-04T23:20:24.940798Z",
     "iopub.status.busy": "2023-11-04T23:20:24.940135Z",
     "iopub.status.idle": "2023-11-04T23:20:24.96297Z",
     "shell.execute_reply": "2023-11-04T23:20:24.961989Z",
     "shell.execute_reply.started": "2023-11-04T23:20:24.940765Z"
    },
    "executionInfo": {
     "elapsed": 8,
     "status": "ok",
     "timestamp": 1700384563745,
     "user": {
      "displayName": "Astghik Kostanyan",
      "userId": "15602723312680196541"
     },
     "user_tz": -240
    },
    "id": "P_rBTAlqz6Cp",
    "outputId": "a5733d72-10dd-4779-a0bf-b5e16c667911"
   },
   "outputs": [
    {
     "data": {
      "text/html": [
       "<div>\n",
       "<style scoped>\n",
       "    .dataframe tbody tr th:only-of-type {\n",
       "        vertical-align: middle;\n",
       "    }\n",
       "\n",
       "    .dataframe tbody tr th {\n",
       "        vertical-align: top;\n",
       "    }\n",
       "\n",
       "    .dataframe thead th {\n",
       "        text-align: right;\n",
       "    }\n",
       "</style>\n",
       "<table border=\"1\" class=\"dataframe\">\n",
       "  <thead>\n",
       "    <tr style=\"text-align: right;\">\n",
       "      <th></th>\n",
       "      <th>Branch</th>\n",
       "      <th>City</th>\n",
       "      <th>Customer type</th>\n",
       "      <th>Gender</th>\n",
       "      <th>Product line</th>\n",
       "      <th>Unit price</th>\n",
       "      <th>Quantity</th>\n",
       "      <th>Tax 5%</th>\n",
       "      <th>Total</th>\n",
       "      <th>Payment</th>\n",
       "      <th>gross income</th>\n",
       "      <th>Rating</th>\n",
       "      <th>Month</th>\n",
       "    </tr>\n",
       "  </thead>\n",
       "  <tbody>\n",
       "    <tr>\n",
       "      <th>299</th>\n",
       "      <td>C</td>\n",
       "      <td>Naypyitaw</td>\n",
       "      <td>Member</td>\n",
       "      <td>Female</td>\n",
       "      <td>Home and lifestyle</td>\n",
       "      <td>88.61</td>\n",
       "      <td>1</td>\n",
       "      <td>4.4305</td>\n",
       "      <td>93.0405</td>\n",
       "      <td>Cash</td>\n",
       "      <td>4.4305</td>\n",
       "      <td>7.7</td>\n",
       "      <td>1</td>\n",
       "    </tr>\n",
       "    <tr>\n",
       "      <th>902</th>\n",
       "      <td>A</td>\n",
       "      <td>Yangon</td>\n",
       "      <td>Member</td>\n",
       "      <td>Female</td>\n",
       "      <td>Health and beauty</td>\n",
       "      <td>27.73</td>\n",
       "      <td>5</td>\n",
       "      <td>6.9325</td>\n",
       "      <td>145.5825</td>\n",
       "      <td>Credit card</td>\n",
       "      <td>6.9325</td>\n",
       "      <td>4.2</td>\n",
       "      <td>3</td>\n",
       "    </tr>\n",
       "  </tbody>\n",
       "</table>\n",
       "</div>"
      ],
      "text/plain": [
       "    Branch       City Customer type  Gender        Product line  Unit price  \\\n",
       "299      C  Naypyitaw        Member  Female  Home and lifestyle       88.61   \n",
       "902      A     Yangon        Member  Female   Health and beauty       27.73   \n",
       "\n",
       "     Quantity  Tax 5%     Total      Payment  gross income  Rating  Month  \n",
       "299         1  4.4305   93.0405         Cash        4.4305     7.7      1  \n",
       "902         5  6.9325  145.5825  Credit card        6.9325     4.2      3  "
      ]
     },
     "execution_count": 17,
     "metadata": {},
     "output_type": "execute_result"
    }
   ],
   "source": [
    "# see sample of data\n",
    "\n",
    "data.sample(2)"
   ]
  },
  {
   "cell_type": "markdown",
   "metadata": {
    "id": "_E9UJIBgz6Cq"
   },
   "source": [
    "## Univariate Analysis"
   ]
  },
  {
   "cell_type": "markdown",
   "metadata": {
    "id": "08mvdfe2z6Cq"
   },
   "source": [
    "### Discovering `Branch` column"
   ]
  },
  {
   "cell_type": "code",
   "execution_count": 18,
   "metadata": {
    "colab": {
     "base_uri": "https://localhost:8080/"
    },
    "execution": {
     "iopub.execute_input": "2023-11-04T23:20:24.964871Z",
     "iopub.status.busy": "2023-11-04T23:20:24.964333Z",
     "iopub.status.idle": "2023-11-04T23:20:24.976026Z",
     "shell.execute_reply": "2023-11-04T23:20:24.975218Z",
     "shell.execute_reply.started": "2023-11-04T23:20:24.964842Z"
    },
    "executionInfo": {
     "elapsed": 7,
     "status": "ok",
     "timestamp": 1700384563745,
     "user": {
      "displayName": "Astghik Kostanyan",
      "userId": "15602723312680196541"
     },
     "user_tz": -240
    },
    "id": "3flxxzoBz6Cq",
    "outputId": "64ba446c-bee7-43e7-cee1-bf80d0b95cfe"
   },
   "outputs": [
    {
     "data": {
      "text/plain": [
       "array(['A', 'C', 'B'], dtype=object)"
      ]
     },
     "execution_count": 18,
     "metadata": {},
     "output_type": "execute_result"
    }
   ],
   "source": [
    "# see unique values\n",
    "\n",
    "data[\"Branch\"].unique()"
   ]
  },
  {
   "cell_type": "code",
   "execution_count": 19,
   "metadata": {
    "colab": {
     "base_uri": "https://localhost:8080/",
     "height": 406
    },
    "execution": {
     "iopub.execute_input": "2023-11-04T23:20:24.977936Z",
     "iopub.status.busy": "2023-11-04T23:20:24.977525Z",
     "iopub.status.idle": "2023-11-04T23:20:25.173818Z",
     "shell.execute_reply": "2023-11-04T23:20:25.171265Z",
     "shell.execute_reply.started": "2023-11-04T23:20:24.977891Z"
    },
    "executionInfo": {
     "elapsed": 377,
     "status": "ok",
     "timestamp": 1700384564116,
     "user": {
      "displayName": "Astghik Kostanyan",
      "userId": "15602723312680196541"
     },
     "user_tz": -240
    },
    "id": "zZ5-mthuz6Cq",
    "outputId": "52e3be26-e2dc-41c8-b0f8-66cb8edeeda5"
   },
   "outputs": [
    {
     "data": {
      "image/png": "[encoded data removed]",
      "text/plain": [
       "<Figure size 640x480 with 1 Axes>"
      ]
     },
     "metadata": {},
     "output_type": "display_data"
    }
   ],
   "source": [
    "# number of unique values is small, which is appropriate with pie plot\n",
    "\n",
    "pie_plot(\"Branch\") # call function i create it in cell 11"
   ]
  },
  {
   "cell_type": "markdown",
   "metadata": {
    "id": "UmN6wdSJz6Cq"
   },
   "source": [
    "**We can see :**\n",
    "\n",
    "- We have 3 Branches \"A\", \"B\" and \"C\"\n",
    "    - Almost equally distributed\n",
    "    - Branche `A` has largest Sales numbers\n",
    "    - Branche `C` has fewest Sales numbers"
   ]
  },
  {
   "cell_type": "markdown",
   "metadata": {
    "id": "BnUBMoPZz6Cq"
   },
   "source": [
    "### Discovering `Customer type` column"
   ]
  },
  {
   "cell_type": "code",
   "execution_count": 20,
   "metadata": {
    "colab": {
     "base_uri": "https://localhost:8080/"
    },
    "execution": {
     "iopub.execute_input": "2023-11-04T23:20:25.17767Z",
     "iopub.status.busy": "2023-11-04T23:20:25.176239Z",
     "iopub.status.idle": "2023-11-04T23:20:25.188446Z",
     "shell.execute_reply": "2023-11-04T23:20:25.186549Z",
     "shell.execute_reply.started": "2023-11-04T23:20:25.177614Z"
    },
    "executionInfo": {
     "elapsed": 7,
     "status": "ok",
     "timestamp": 1700384564116,
     "user": {
      "displayName": "Astghik Kostanyan",
      "userId": "15602723312680196541"
     },
     "user_tz": -240
    },
    "id": "3faMrYvlz6Cq",
    "outputId": "e033cd5f-d090-4f5e-9a39-56b04ccb16f4"
   },
   "outputs": [
    {
     "data": {
      "text/plain": [
       "array(['Member', 'Normal'], dtype=object)"
      ]
     },
     "execution_count": 20,
     "metadata": {},
     "output_type": "execute_result"
    }
   ],
   "source": [
    "# see unique values\n",
    "\n",
    "data[\"Customer type\"].unique()"
   ]
  },
  {
   "cell_type": "code",
   "execution_count": 21,
   "metadata": {
    "colab": {
     "base_uri": "https://localhost:8080/",
     "height": 406
    },
    "execution": {
     "iopub.execute_input": "2023-11-04T23:20:25.192142Z",
     "iopub.status.busy": "2023-11-04T23:20:25.191468Z",
     "iopub.status.idle": "2023-11-04T23:20:25.363574Z",
     "shell.execute_reply": "2023-11-04T23:20:25.361875Z",
     "shell.execute_reply.started": "2023-11-04T23:20:25.192094Z"
    },
    "executionInfo": {
     "elapsed": 491,
     "status": "ok",
     "timestamp": 1700384564603,
     "user": {
      "displayName": "Astghik Kostanyan",
      "userId": "15602723312680196541"
     },
     "user_tz": -240
    },
    "id": "2Gxtt1yWz6Cq",
    "outputId": "d5f2ad63-43cb-4112-9cc0-5e46bc3f3ee6"
   },
   "outputs": [
    {
     "data": {
      "image/png": "[encoded data removed]",
      "text/plain": [
       "<Figure size 640x480 with 1 Axes>"
      ]
     },
     "metadata": {},
     "output_type": "display_data"
    }
   ],
   "source": [
    "# number of unique values is small, which is appropriate with pie plot\n",
    "\n",
    "pie_plot(\"Customer type\") # call function i create it in cell 11"
   ]
  },
  {
   "cell_type": "markdown",
   "metadata": {
    "id": "fAa0J8Gmz6Cq"
   },
   "source": [
    "### From the above\n",
    "\n",
    "- Almost equally distributed\n",
    "- Most people come to branches has `member card`"
   ]
  },
  {
   "cell_type": "markdown",
   "metadata": {
    "id": "HJ19Qq2Yz6Cq"
   },
   "source": [
    "### Discovering `Gender` column"
   ]
  },
  {
   "cell_type": "code",
   "execution_count": 22,
   "metadata": {
    "colab": {
     "base_uri": "https://localhost:8080/"
    },
    "execution": {
     "iopub.execute_input": "2023-11-04T23:20:25.366914Z",
     "iopub.status.busy": "2023-11-04T23:20:25.366362Z",
     "iopub.status.idle": "2023-11-04T23:20:25.377638Z",
     "shell.execute_reply": "2023-11-04T23:20:25.375934Z",
     "shell.execute_reply.started": "2023-11-04T23:20:25.366871Z"
    },
    "executionInfo": {
     "elapsed": 7,
     "status": "ok",
     "timestamp": 1700384564604,
     "user": {
      "displayName": "Astghik Kostanyan",
      "userId": "15602723312680196541"
     },
     "user_tz": -240
    },
    "id": "sFIBXSXIz6Cq",
    "outputId": "842ed481-04a8-4ee0-882f-018fdcd6b16d"
   },
   "outputs": [
    {
     "data": {
      "text/plain": [
       "array(['Female', 'Male'], dtype=object)"
      ]
     },
     "execution_count": 22,
     "metadata": {},
     "output_type": "execute_result"
    }
   ],
   "source": [
    "# see unique values\n",
    "\n",
    "data[\"Gender\"].unique()"
   ]
  },
  {
   "cell_type": "code",
   "execution_count": 23,
   "metadata": {
    "colab": {
     "base_uri": "https://localhost:8080/",
     "height": 406
    },
    "execution": {
     "iopub.execute_input": "2023-11-04T23:20:25.382301Z",
     "iopub.status.busy": "2023-11-04T23:20:25.38074Z",
     "iopub.status.idle": "2023-11-04T23:20:25.553386Z",
     "shell.execute_reply": "2023-11-04T23:20:25.551403Z",
     "shell.execute_reply.started": "2023-11-04T23:20:25.382245Z"
    },
    "executionInfo": {
     "elapsed": 5,
     "status": "ok",
     "timestamp": 1700384564604,
     "user": {
      "displayName": "Astghik Kostanyan",
      "userId": "15602723312680196541"
     },
     "user_tz": -240
    },
    "id": "qQ5PvtWjz6Cq",
    "outputId": "54f862ed-d775-40f5-98e2-113db24fae59"
   },
   "outputs": [
    {
     "data": {
      "image/png": "[encoded data removed]",
      "text/plain": [
       "<Figure size 640x480 with 1 Axes>"
      ]
     },
     "metadata": {},
     "output_type": "display_data"
    }
   ],
   "source": [
    "# number of unique values is small, which is appropriate with pie plot\n",
    "\n",
    "pie_plot(\"Gender\") # call function i create it in cell 11"
   ]
  },
  {
   "cell_type": "markdown",
   "metadata": {
    "id": "lrbWWRI1z6Cq"
   },
   "source": [
    "### From the above\n",
    "\n",
    "- Almost equally distributed\n",
    "- Most Gender Come to branches is `female`"
   ]
  },
  {
   "cell_type": "markdown",
   "metadata": {
    "id": "aL7hK4Ixz6Cq"
   },
   "source": [
    "### Discovering `Product line` column"
   ]
  },
  {
   "cell_type": "code",
   "execution_count": 24,
   "metadata": {
    "colab": {
     "base_uri": "https://localhost:8080/"
    },
    "execution": {
     "iopub.execute_input": "2023-11-04T23:20:25.557819Z",
     "iopub.status.busy": "2023-11-04T23:20:25.557079Z",
     "iopub.status.idle": "2023-11-04T23:20:25.569424Z",
     "shell.execute_reply": "2023-11-04T23:20:25.567515Z",
     "shell.execute_reply.started": "2023-11-04T23:20:25.55777Z"
    },
    "executionInfo": {
     "elapsed": 5,
     "status": "ok",
     "timestamp": 1700384564604,
     "user": {
      "displayName": "Astghik Kostanyan",
      "userId": "15602723312680196541"
     },
     "user_tz": -240
    },
    "id": "Zj1e661Tz6Cq",
    "outputId": "25c34fb1-e005-47a6-d663-af8aae67d228"
   },
   "outputs": [
    {
     "data": {
      "text/plain": [
       "array(['Health and beauty', 'Electronic accessories',\n",
       "       'Home and lifestyle', 'Sports and travel', 'Food and beverages',\n",
       "       'Fashion accessories'], dtype=object)"
      ]
     },
     "execution_count": 24,
     "metadata": {},
     "output_type": "execute_result"
    }
   ],
   "source": [
    "# see unique values\n",
    "\n",
    "data[\"Product line\"].unique()"
   ]
  },
  {
   "cell_type": "code",
   "execution_count": 25,
   "metadata": {
    "colab": {
     "base_uri": "https://localhost:8080/",
     "height": 542
    },
    "execution": {
     "iopub.execute_input": "2023-11-04T23:20:25.573499Z",
     "iopub.status.busy": "2023-11-04T23:20:25.572848Z",
     "iopub.status.idle": "2023-11-04T23:20:26.0939Z",
     "shell.execute_reply": "2023-11-04T23:20:26.092683Z",
     "shell.execute_reply.started": "2023-11-04T23:20:25.57345Z"
    },
    "executionInfo": {
     "elapsed": 681,
     "status": "ok",
     "timestamp": 1700384565281,
     "user": {
      "displayName": "Astghik Kostanyan",
      "userId": "15602723312680196541"
     },
     "user_tz": -240
    },
    "id": "aOm7v-mpz6Cq",
    "outputId": "ba7442f2-fd5c-4ce0-e9eb-d8fa8fbf20b9"
   },
   "outputs": [
    {
     "data": {
      "image/png": "[encoded data removed]",
      "text/plain": [
       "<Figure size 1500x600 with 1 Axes>"
      ]
     },
     "metadata": {},
     "output_type": "display_data"
    }
   ],
   "source": [
    "# number of unique values is relatively large, count plot more suitable for it\n",
    "\n",
    "# first set figure size\n",
    "plt.figure(figsize = (15,6))\n",
    "\n",
    "# call function i create it in cell 10\n",
    "count_plot(\"Product line\")"
   ]
  },
  {
   "cell_type": "markdown",
   "metadata": {
    "id": "nigH7sjjz6Cq"
   },
   "source": [
    "**We can see :**\n",
    "\n",
    "- Most sales in branches is **\"Fashion accessories\"**\n",
    "- Lest sales in branches is **\"Health and beauty\"**"
   ]
  },
  {
   "cell_type": "markdown",
   "metadata": {
    "id": "NuZOzNBhz6Cq"
   },
   "source": [
    "### Discovering `Payment` column"
   ]
  },
  {
   "cell_type": "code",
   "execution_count": 26,
   "metadata": {
    "colab": {
     "base_uri": "https://localhost:8080/"
    },
    "execution": {
     "iopub.execute_input": "2023-11-04T23:20:26.096234Z",
     "iopub.status.busy": "2023-11-04T23:20:26.095731Z",
     "iopub.status.idle": "2023-11-04T23:20:26.103893Z",
     "shell.execute_reply": "2023-11-04T23:20:26.10305Z",
     "shell.execute_reply.started": "2023-11-04T23:20:26.096201Z"
    },
    "executionInfo": {
     "elapsed": 7,
     "status": "ok",
     "timestamp": 1700384565281,
     "user": {
      "displayName": "Astghik Kostanyan",
      "userId": "15602723312680196541"
     },
     "user_tz": -240
    },
    "id": "HbthLV99z6Cq",
    "outputId": "89f800df-44da-4664-bc7b-badee1633d9a"
   },
   "outputs": [
    {
     "data": {
      "text/plain": [
       "array(['Ewallet', 'Cash', 'Credit card'], dtype=object)"
      ]
     },
     "execution_count": 26,
     "metadata": {},
     "output_type": "execute_result"
    }
   ],
   "source": [
    "# see unique values\n",
    "\n",
    "data[\"Payment\"].unique()"
   ]
  },
  {
   "cell_type": "code",
   "execution_count": 27,
   "metadata": {
    "colab": {
     "base_uri": "https://localhost:8080/",
     "height": 406
    },
    "execution": {
     "iopub.execute_input": "2023-11-04T23:20:26.106039Z",
     "iopub.status.busy": "2023-11-04T23:20:26.105186Z",
     "iopub.status.idle": "2023-11-04T23:20:26.262221Z",
     "shell.execute_reply": "2023-11-04T23:20:26.26108Z",
     "shell.execute_reply.started": "2023-11-04T23:20:26.106008Z"
    },
    "executionInfo": {
     "elapsed": 5,
     "status": "ok",
     "timestamp": 1700384565281,
     "user": {
      "displayName": "Astghik Kostanyan",
      "userId": "15602723312680196541"
     },
     "user_tz": -240
    },
    "id": "_jaorFK_z6Cq",
    "outputId": "5b837c65-9e82-4cbf-80c4-ffdbc28a748f"
   },
   "outputs": [
    {
     "data": {
      "image/png": "[encoded data removed]",
      "text/plain": [
       "<Figure size 640x480 with 1 Axes>"
      ]
     },
     "metadata": {},
     "output_type": "display_data"
    }
   ],
   "source": [
    "# number of unique values is small, which is appropriate with pie plot\n",
    "\n",
    "pie_plot(\"Payment\") # call function i create it in cell 11"
   ]
  },
  {
   "cell_type": "markdown",
   "metadata": {
    "id": "vOL-o9Ysz6Cu"
   },
   "source": [
    "### From the above\n",
    "\n",
    "- Almost equally distributed\n",
    "- Customers prefered to `Ewallet`,`cash payments`"
   ]
  },
  {
   "cell_type": "markdown",
   "metadata": {
    "id": "CntJvoAfz6Cu"
   },
   "source": [
    "### Discovering `Rating` column"
   ]
  },
  {
   "cell_type": "code",
   "execution_count": 28,
   "metadata": {
    "colab": {
     "base_uri": "https://localhost:8080/"
    },
    "execution": {
     "iopub.execute_input": "2023-11-04T23:20:26.264295Z",
     "iopub.status.busy": "2023-11-04T23:20:26.263677Z",
     "iopub.status.idle": "2023-11-04T23:20:26.273218Z",
     "shell.execute_reply": "2023-11-04T23:20:26.272354Z",
     "shell.execute_reply.started": "2023-11-04T23:20:26.264253Z"
    },
    "executionInfo": {
     "elapsed": 5,
     "status": "ok",
     "timestamp": 1700384565281,
     "user": {
      "displayName": "Astghik Kostanyan",
      "userId": "15602723312680196541"
     },
     "user_tz": -240
    },
    "id": "HYzcKxNfz6Cu",
    "outputId": "c2b41bb1-c0da-4fb9-9ebd-3ea4b015a551"
   },
   "outputs": [
    {
     "data": {
      "text/plain": [
       "array([ 9.1,  9.6,  7.4,  8.4,  5.3,  4.1,  5.8,  8. ,  7.2,  5.9,  4.5,\n",
       "        6.8,  7.1,  8.2,  5.7,  4.6,  6.9,  8.6,  4.4,  4.8,  5.1,  9.9,\n",
       "        6. ,  8.5,  6.7,  7.7,  7.5,  7. ,  4.7,  7.6,  7.9,  6.3,  5.6,\n",
       "        9.5,  8.1,  6.5,  6.1,  6.6,  5.4,  9.3, 10. ,  6.4,  4.3,  4. ,\n",
       "        8.7,  9.4,  5.5,  8.3,  7.3,  4.9,  4.2,  9.2,  7.8,  5.2,  9. ,\n",
       "        8.8,  6.2,  9.8,  9.7,  5. ,  8.9])"
      ]
     },
     "execution_count": 28,
     "metadata": {},
     "output_type": "execute_result"
    }
   ],
   "source": [
    "# see unique values\n",
    "\n",
    "data[\"Rating\"].unique()"
   ]
  },
  {
   "cell_type": "code",
   "execution_count": 29,
   "metadata": {
    "colab": {
     "base_uri": "https://localhost:8080/",
     "height": 506
    },
    "execution": {
     "iopub.execute_input": "2023-11-04T23:20:26.275333Z",
     "iopub.status.busy": "2023-11-04T23:20:26.274834Z",
     "iopub.status.idle": "2023-11-04T23:20:26.640645Z",
     "shell.execute_reply": "2023-11-04T23:20:26.639508Z",
     "shell.execute_reply.started": "2023-11-04T23:20:26.275294Z"
    },
    "executionInfo": {
     "elapsed": 570,
     "status": "ok",
     "timestamp": 1700384565847,
     "user": {
      "displayName": "Astghik Kostanyan",
      "userId": "15602723312680196541"
     },
     "user_tz": -240
    },
    "id": "bslMZ2Kwz6Cu",
    "outputId": "919da07c-7e4f-4c93-a3b1-4fd1480d3110"
   },
   "outputs": [
    {
     "name": "stderr",
     "output_type": "stream",
     "text": [
      "/Users/irenatorosyan/anaconda3/lib/python3.11/site-packages/seaborn/axisgrid.py:118: UserWarning: The figure layout has changed to tight\n",
      "  self._figure.tight_layout(*args, **kwargs)\n"
     ]
    },
    {
     "data": {
      "image/png": "[encoded data removed]",
      "text/plain": [
       "<Figure size 500x500 with 1 Axes>"
      ]
     },
     "metadata": {},
     "output_type": "display_data"
    }
   ],
   "source": [
    "# see distribution\n",
    "\n",
    "box_plot(y_axis = \"Rating\") # call function i create it in cell 12"
   ]
  },
  {
   "cell_type": "markdown",
   "metadata": {
    "id": "s8gzN_9wz6Cu"
   },
   "source": [
    "### From the above\n",
    "\n",
    "- Average rating across products is approximately `7`"
   ]
  },
  {
   "cell_type": "markdown",
   "metadata": {
    "id": "cmRXrucDz6Cu"
   },
   "source": [
    "### Discovering `Month` column"
   ]
  },
  {
   "cell_type": "code",
   "execution_count": 30,
   "metadata": {
    "colab": {
     "base_uri": "https://localhost:8080/"
    },
    "execution": {
     "iopub.execute_input": "2023-11-04T23:20:26.643122Z",
     "iopub.status.busy": "2023-11-04T23:20:26.642418Z",
     "iopub.status.idle": "2023-11-04T23:20:26.652955Z",
     "shell.execute_reply": "2023-11-04T23:20:26.65204Z",
     "shell.execute_reply.started": "2023-11-04T23:20:26.64308Z"
    },
    "executionInfo": {
     "elapsed": 10,
     "status": "ok",
     "timestamp": 1700384565847,
     "user": {
      "displayName": "Astghik Kostanyan",
      "userId": "15602723312680196541"
     },
     "user_tz": -240
    },
    "id": "nw51Vaxiz6Cu",
    "outputId": "f17ba725-0e4b-479a-da12-6de5b45cfd94"
   },
   "outputs": [
    {
     "data": {
      "text/plain": [
       "array([1, 3, 2], dtype=int32)"
      ]
     },
     "execution_count": 30,
     "metadata": {},
     "output_type": "execute_result"
    }
   ],
   "source": [
    "# see unique values\n",
    "\n",
    "data[\"Month\"].unique()"
   ]
  },
  {
   "cell_type": "code",
   "execution_count": 31,
   "metadata": {
    "colab": {
     "base_uri": "https://localhost:8080/",
     "height": 406
    },
    "execution": {
     "iopub.execute_input": "2023-11-04T23:20:26.660747Z",
     "iopub.status.busy": "2023-11-04T23:20:26.659938Z",
     "iopub.status.idle": "2023-11-04T23:20:26.819992Z",
     "shell.execute_reply": "2023-11-04T23:20:26.818272Z",
     "shell.execute_reply.started": "2023-11-04T23:20:26.660704Z"
    },
    "executionInfo": {
     "elapsed": 8,
     "status": "ok",
     "timestamp": 1700384565848,
     "user": {
      "displayName": "Astghik Kostanyan",
      "userId": "15602723312680196541"
     },
     "user_tz": -240
    },
    "id": "3ezxrJevz6Cv",
    "outputId": "c3014747-3530-4094-80e5-0fa5b75493e3"
   },
   "outputs": [
    {
     "data": {
      "image/png": "[encoded data removed]",
      "text/plain": [
       "<Figure size 640x480 with 1 Axes>"
      ]
     },
     "metadata": {},
     "output_type": "display_data"
    }
   ],
   "source": [
    "# number of unique values is small, which is appropriate with pie plot\n",
    "\n",
    "pie_plot(\"Month\") # call function i create it in cell 11"
   ]
  },
  {
   "cell_type": "markdown",
   "metadata": {
    "id": "LdUsxsBBz6Cv"
   },
   "source": [
    "- Most sales in **\"january\"** month"
   ]
  },
  {
   "cell_type": "markdown",
   "metadata": {
    "id": "DGCvQf93z6Cv"
   },
   "source": [
    "## Bivariate Analysis & Visualizations"
   ]
  },
  {
   "cell_type": "markdown",
   "metadata": {
    "id": "VCgh9lXyz6Cv"
   },
   "source": [
    "**1) There is relationship between gross income and customer ratings ?**"
   ]
  },
  {
   "cell_type": "code",
   "execution_count": 32,
   "metadata": {
    "colab": {
     "base_uri": "https://localhost:8080/",
     "height": 507
    },
    "execution": {
     "iopub.execute_input": "2023-11-04T23:20:26.823595Z",
     "iopub.status.busy": "2023-11-04T23:20:26.822625Z",
     "iopub.status.idle": "2023-11-04T23:20:27.442828Z",
     "shell.execute_reply": "2023-11-04T23:20:27.439984Z",
     "shell.execute_reply.started": "2023-11-04T23:20:26.823551Z"
    },
    "executionInfo": {
     "elapsed": 579,
     "status": "ok",
     "timestamp": 1700384566420,
     "user": {
      "displayName": "Astghik Kostanyan",
      "userId": "15602723312680196541"
     },
     "user_tz": -240
    },
    "id": "U3eKT3o3z6Cv",
    "outputId": "dff0f8e3-7a6e-4767-ef7e-6d5eda0c5838"
   },
   "outputs": [
    {
     "name": "stderr",
     "output_type": "stream",
     "text": [
      "/Users/irenatorosyan/anaconda3/lib/python3.11/site-packages/seaborn/axisgrid.py:118: UserWarning: The figure layout has changed to tight\n",
      "  self._figure.tight_layout(*args, **kwargs)\n"
     ]
    },
    {
     "data": {
      "image/png": "[encoded data removed]",
      "text/plain": [
       "<Figure size 500x500 with 1 Axes>"
      ]
     },
     "metadata": {},
     "output_type": "display_data"
    }
   ],
   "source": [
    "sns.relplot(x = \"Rating\", y = \"gross income\", data = data, kind = \"scatter\")\n",
    "plt.show()"
   ]
  },
  {
   "cell_type": "markdown",
   "metadata": {
    "id": "ioNqxed0z6Cv"
   },
   "source": [
    "- **No relationship between rating and gross income**"
   ]
  },
  {
   "cell_type": "markdown",
   "metadata": {
    "id": "uByGlch_z6Cv"
   },
   "source": [
    "**2) What is Gross Income of each branch ?**"
   ]
  },
  {
   "cell_type": "code",
   "execution_count": 33,
   "metadata": {
    "colab": {
     "base_uri": "https://localhost:8080/",
     "height": 507
    },
    "execution": {
     "iopub.execute_input": "2023-11-04T23:20:27.444742Z",
     "iopub.status.busy": "2023-11-04T23:20:27.444446Z",
     "iopub.status.idle": "2023-11-04T23:20:27.755499Z",
     "shell.execute_reply": "2023-11-04T23:20:27.754403Z",
     "shell.execute_reply.started": "2023-11-04T23:20:27.444717Z"
    },
    "executionInfo": {
     "elapsed": 471,
     "status": "ok",
     "timestamp": 1700384566889,
     "user": {
      "displayName": "Astghik Kostanyan",
      "userId": "15602723312680196541"
     },
     "user_tz": -240
    },
    "id": "uvrTsv8mz6Cv",
    "outputId": "60e65d6f-387a-4ceb-908e-2e546a3a7e75"
   },
   "outputs": [
    {
     "name": "stderr",
     "output_type": "stream",
     "text": [
      "/Users/irenatorosyan/anaconda3/lib/python3.11/site-packages/seaborn/axisgrid.py:118: UserWarning: The figure layout has changed to tight\n",
      "  self._figure.tight_layout(*args, **kwargs)\n"
     ]
    },
    {
     "data": {
      "image/png": "[encoded data removed]",
      "text/plain": [
       "<Figure size 500x500 with 1 Axes>"
      ]
     },
     "metadata": {},
     "output_type": "display_data"
    }
   ],
   "source": [
    "# call function i create it in cell 12\n",
    "\n",
    "box_plot(x_axis = \"Branch\", y_axis = \"gross income\")"
   ]
  },
  {
   "cell_type": "markdown",
   "metadata": {
    "id": "4Wfigdz1z6Cv"
   },
   "source": [
    "\n",
    "\n",
    "- Branch `C` stands out slightly with higher income compared to Branch `A` and `B`. Despite Branch `A` having slightly higher sales, it is Branch `C`  that emerges as the most profitable branch in terms of gross income"
   ]
  },
  {
   "cell_type": "markdown",
   "metadata": {
    "id": "PBpVkAL8z6Cv"
   },
   "source": [
    "**3) See Gender come to branches**"
   ]
  },
  {
   "cell_type": "code",
   "execution_count": 34,
   "metadata": {
    "colab": {
     "base_uri": "https://localhost:8080/",
     "height": 542
    },
    "execution": {
     "iopub.execute_input": "2023-11-04T23:20:27.757613Z",
     "iopub.status.busy": "2023-11-04T23:20:27.757209Z",
     "iopub.status.idle": "2023-11-04T23:20:28.0299Z",
     "shell.execute_reply": "2023-11-04T23:20:28.028564Z",
     "shell.execute_reply.started": "2023-11-04T23:20:27.757561Z"
    },
    "executionInfo": {
     "elapsed": 4,
     "status": "ok",
     "timestamp": 1700384566889,
     "user": {
      "displayName": "Astghik Kostanyan",
      "userId": "15602723312680196541"
     },
     "user_tz": -240
    },
    "id": "_yBEQZCVz6Cv",
    "outputId": "92a97937-f402-4ea2-c539-caf9599bfec1"
   },
   "outputs": [
    {
     "data": {
      "image/png": "[encoded data removed]",
      "text/plain": [
       "<Figure size 1500x600 with 1 Axes>"
      ]
     },
     "metadata": {},
     "output_type": "display_data"
    }
   ],
   "source": [
    "# first set figure size\n",
    "plt.figure(figsize = (15,6))\n",
    "\n",
    "# call function i create it in cell 10\n",
    "count_plot(x_axis = \"Branch\", hue = \"Gender\")"
   ]
  },
  {
   "cell_type": "markdown",
   "metadata": {
    "id": "ePl5Bhpuz6Cv"
   },
   "source": [
    "- Branch `A`,`B` has males greater than females, but branch `C` has females greater than males"
   ]
  },
  {
   "cell_type": "markdown",
   "metadata": {
    "id": "M6XMAzVqz6Cv"
   },
   "source": [
    "**4) What is male and female gross income in each branch ?**"
   ]
  },
  {
   "cell_type": "code",
   "execution_count": 35,
   "metadata": {
    "colab": {
     "base_uri": "https://localhost:8080/",
     "height": 507
    },
    "execution": {
     "iopub.execute_input": "2023-11-04T23:20:28.034092Z",
     "iopub.status.busy": "2023-11-04T23:20:28.033738Z",
     "iopub.status.idle": "2023-11-04T23:20:28.926481Z",
     "shell.execute_reply": "2023-11-04T23:20:28.925408Z",
     "shell.execute_reply.started": "2023-11-04T23:20:28.034047Z"
    },
    "executionInfo": {
     "elapsed": 946,
     "status": "ok",
     "timestamp": 1700384567832,
     "user": {
      "displayName": "Astghik Kostanyan",
      "userId": "15602723312680196541"
     },
     "user_tz": -240
    },
    "id": "WzYytSHxz6Cv",
    "outputId": "0f348989-3829-4402-ae5e-f2b96f76c462"
   },
   "outputs": [
    {
     "name": "stderr",
     "output_type": "stream",
     "text": [
      "/Users/irenatorosyan/anaconda3/lib/python3.11/site-packages/seaborn/axisgrid.py:118: UserWarning: The figure layout has changed to tight\n",
      "  self._figure.tight_layout(*args, **kwargs)\n"
     ]
    },
    {
     "data": {
      "image/png": "[encoded data removed]",
      "text/plain": [
       "<Figure size 1500x500 with 3 Axes>"
      ]
     },
     "metadata": {},
     "output_type": "display_data"
    }
   ],
   "source": [
    "# call function i create it in cell 12\n",
    "\n",
    "box_plot(x_axis = \"Gender\", y_axis = \"gross income\", col = \"Branch\")"
   ]
  },
  {
   "cell_type": "markdown",
   "metadata": {
    "id": "TEQgbLfWz6Cv"
   },
   "source": [
    "- **\"Female\"** gross income greater than Male in each branch"
   ]
  },
  {
   "cell_type": "markdown",
   "metadata": {
    "id": "M3G6Id6uz6Cv"
   },
   "source": [
    "**5) See sales product line in branches**"
   ]
  },
  {
   "cell_type": "code",
   "execution_count": 36,
   "metadata": {
    "colab": {
     "base_uri": "https://localhost:8080/",
     "height": 542
    },
    "execution": {
     "iopub.execute_input": "2023-11-04T23:20:28.928344Z",
     "iopub.status.busy": "2023-11-04T23:20:28.928004Z",
     "iopub.status.idle": "2023-11-04T23:20:29.313283Z",
     "shell.execute_reply": "2023-11-04T23:20:29.312385Z",
     "shell.execute_reply.started": "2023-11-04T23:20:28.928317Z"
    },
    "executionInfo": {
     "elapsed": 630,
     "status": "ok",
     "timestamp": 1700384568460,
     "user": {
      "displayName": "Astghik Kostanyan",
      "userId": "15602723312680196541"
     },
     "user_tz": -240
    },
    "id": "2dQiqyM3z6Cv",
    "outputId": "62074a59-4b2a-43ff-b216-174e0844f7a2"
   },
   "outputs": [
    {
     "data": {
      "image/png": "[encoded data removed]",
      "text/plain": [
       "<Figure size 1500x600 with 1 Axes>"
      ]
     },
     "metadata": {},
     "output_type": "display_data"
    }
   ],
   "source": [
    "# first set figure size\n",
    "plt.figure(figsize=(15,6))\n",
    "\n",
    "# call function i create it in cell 10\n",
    "count_plot(x_axis = \"Product line\", hue = \"Branch\")"
   ]
  },
  {
   "cell_type": "markdown",
   "metadata": {
    "id": "pPL9KAJvz6Cv"
   },
   "source": [
    "### From above\n",
    "- \"Electronic accessories\", \"Home and lifestyle\" is the most sales in branch A\n",
    "- \"Health and beauty\", \"Sports and travel\" is the most sales in branch B\n",
    "- \"Food and beverages\", \"Fashion accessories\" is the most sales in branch C"
   ]
  },
  {
   "cell_type": "markdown",
   "metadata": {
    "id": "bRHQK9yQz6Cv"
   },
   "source": [
    "**6) What is number of customer type of each branch ?**"
   ]
  },
  {
   "cell_type": "code",
   "execution_count": 37,
   "metadata": {
    "colab": {
     "base_uri": "https://localhost:8080/",
     "height": 619
    },
    "execution": {
     "iopub.execute_input": "2023-11-04T23:20:29.314999Z",
     "iopub.status.busy": "2023-11-04T23:20:29.314428Z",
     "iopub.status.idle": "2023-11-04T23:20:29.674407Z",
     "shell.execute_reply": "2023-11-04T23:20:29.673444Z",
     "shell.execute_reply.started": "2023-11-04T23:20:29.314958Z"
    },
    "executionInfo": {
     "elapsed": 6,
     "status": "ok",
     "timestamp": 1700384568460,
     "user": {
      "displayName": "Astghik Kostanyan",
      "userId": "15602723312680196541"
     },
     "user_tz": -240
    },
    "id": "J3yQTQVBz6Cv",
    "outputId": "94b3c178-8489-4d47-b1e3-1d067c53aa93"
   },
   "outputs": [
    {
     "data": {
      "image/png": "[encoded data removed]",
      "text/plain": [
       "<Figure size 1500x700 with 1 Axes>"
      ]
     },
     "metadata": {},
     "output_type": "display_data"
    }
   ],
   "source": [
    "# first set figure size\n",
    "plt.figure(figsize=(15,7))\n",
    "\n",
    "# call function i create it in cell 10\n",
    "count_plot(x_axis = \"Branch\", hue = \"Customer type\")"
   ]
  },
  {
   "cell_type": "markdown",
   "metadata": {
    "id": "DmQk5V_Ez6Cv"
   },
   "source": [
    "### From above\n",
    "- Branch `A`, `Normal` customer greater than `Member`\n",
    "- Branch `B`, `Normal` customer greater than `Member`\n",
    "- Branch `C`, `Member` customer greater than `Normal`\n",
    "\n",
    "#### `When  number of members in Branch increased,Total of gross income increased`"
   ]
  },
  {
   "cell_type": "markdown",
   "metadata": {
    "id": "aMM77QbOz6Cw"
   },
   "source": [
    "**7) What is relation between customer gender and product line ?**"
   ]
  },
  {
   "cell_type": "code",
   "execution_count": 38,
   "metadata": {
    "colab": {
     "base_uri": "https://localhost:8080/",
     "height": 544
    },
    "execution": {
     "iopub.execute_input": "2023-11-04T23:20:29.676876Z",
     "iopub.status.busy": "2023-11-04T23:20:29.675602Z",
     "iopub.status.idle": "2023-11-04T23:20:30.086082Z",
     "shell.execute_reply": "2023-11-04T23:20:30.085005Z",
     "shell.execute_reply.started": "2023-11-04T23:20:29.676816Z"
    },
    "executionInfo": {
     "elapsed": 789,
     "status": "ok",
     "timestamp": 1700384569244,
     "user": {
      "displayName": "Astghik Kostanyan",
      "userId": "15602723312680196541"
     },
     "user_tz": -240
    },
    "id": "6OO9oh_Yz6Cw",
    "outputId": "b427e39c-b118-4391-95b8-7d6ab34e70c1"
   },
   "outputs": [
    {
     "data": {
      "image/png": "[encoded data removed]",
      "text/plain": [
       "<Figure size 1500x600 with 1 Axes>"
      ]
     },
     "metadata": {},
     "output_type": "display_data"
    }
   ],
   "source": [
    "# first set figure size\n",
    "plt.figure(figsize=(15,6))\n",
    "\n",
    "# call function i create it in cell 10\n",
    "count_plot(x_axis = \"Product line\", hue = \"Gender\")"
   ]
  },
  {
   "cell_type": "markdown",
   "metadata": {
    "id": "45Y-3niJz6Cw"
   },
   "source": [
    "\n",
    "####  When number of females increase, `Fashion accessories` Product line increase\n",
    "\n",
    "#### When number of male increase,`Health and beauty` Product line increase\n"
   ]
  },
  {
   "cell_type": "markdown",
   "metadata": {
    "id": "feAmv6g1z6Cw"
   },
   "source": [
    "**8) Which product line have greater gross income ?**"
   ]
  },
  {
   "cell_type": "code",
   "execution_count": 39,
   "metadata": {
    "colab": {
     "base_uri": "https://localhost:8080/",
     "height": 542
    },
    "execution": {
     "iopub.execute_input": "2023-11-04T23:20:30.088543Z",
     "iopub.status.busy": "2023-11-04T23:20:30.087493Z",
     "iopub.status.idle": "2023-11-04T23:20:30.442479Z",
     "shell.execute_reply": "2023-11-04T23:20:30.441353Z",
     "shell.execute_reply.started": "2023-11-04T23:20:30.088505Z"
    },
    "executionInfo": {
     "elapsed": 6,
     "status": "ok",
     "timestamp": 1700384569245,
     "user": {
      "displayName": "Astghik Kostanyan",
      "userId": "15602723312680196541"
     },
     "user_tz": -240
    },
    "id": "eer96thmz6Cw",
    "outputId": "c096f06e-9fc3-427e-8e00-e4a2b8517b99"
   },
   "outputs": [
    {
     "data": {
      "image/png": "[encoded data removed]",
      "text/plain": [
       "<Figure size 1500x600 with 1 Axes>"
      ]
     },
     "metadata": {},
     "output_type": "display_data"
    }
   ],
   "source": [
    "# 1- create products dataFrame\n",
    "products = data.groupby(\"Product line\")[[\"gross income\"]].sum().sort_values(by = \"gross income\", ascending = False)\n",
    "\n",
    "# 2- first set figure size\n",
    "plt.figure(figsize=(15,6))\n",
    "\n",
    "# 3- visualized products\n",
    "sns.barplot(x = products.index, y = \"gross income\", data = products)\n",
    "plt.show()"
   ]
  },
  {
   "cell_type": "markdown",
   "metadata": {
    "id": "BZX2aZ0Nz6Cw"
   },
   "source": [
    "-  Gross income is highest in `food and beverages`"
   ]
  },
  {
   "cell_type": "markdown",
   "metadata": {
    "id": "s1iSQW18z6Cw"
   },
   "source": [
    "**9) What is month has greater gross income in each branch ?**"
   ]
  },
  {
   "cell_type": "code",
   "execution_count": 40,
   "metadata": {
    "colab": {
     "base_uri": "https://localhost:8080/",
     "height": 507
    },
    "execution": {
     "iopub.execute_input": "2023-11-04T23:20:30.44483Z",
     "iopub.status.busy": "2023-11-04T23:20:30.443863Z",
     "iopub.status.idle": "2023-11-04T23:20:31.520841Z",
     "shell.execute_reply": "2023-11-04T23:20:31.519551Z",
     "shell.execute_reply.started": "2023-11-04T23:20:30.444791Z"
    },
    "executionInfo": {
     "elapsed": 917,
     "status": "ok",
     "timestamp": 1700384570157,
     "user": {
      "displayName": "Astghik Kostanyan",
      "userId": "15602723312680196541"
     },
     "user_tz": -240
    },
    "id": "ri8afWLKz6Cw",
    "outputId": "4276e4cc-c1c1-4a18-880c-89078e184b3a"
   },
   "outputs": [
    {
     "name": "stderr",
     "output_type": "stream",
     "text": [
      "/Users/irenatorosyan/anaconda3/lib/python3.11/site-packages/seaborn/axisgrid.py:118: UserWarning: The figure layout has changed to tight\n",
      "  self._figure.tight_layout(*args, **kwargs)\n"
     ]
    },
    {
     "data": {
      "image/png": "[encoded data removed]",
      "text/plain": [
       "<Figure size 1500x500 with 3 Axes>"
      ]
     },
     "metadata": {},
     "output_type": "display_data"
    }
   ],
   "source": [
    "# call function i create it in cell 12\n",
    "\n",
    "box_plot(x_axis = \"Month\", y_axis = \"gross income\", col = \"Branch\")"
   ]
  },
  {
   "cell_type": "markdown",
   "metadata": {
    "id": "_lEKeM01z6Cw"
   },
   "source": [
    "- \"january\" month has greater gross income"
   ]
  },
  {
   "cell_type": "markdown",
   "metadata": {
    "id": "kozt05J9z6Cw"
   },
   "source": [
    "**10) What is greater sales  product line in each month ?**"
   ]
  },
  {
   "cell_type": "code",
   "execution_count": 41,
   "metadata": {
    "colab": {
     "base_uri": "https://localhost:8080/",
     "height": 542
    },
    "execution": {
     "iopub.execute_input": "2023-11-04T23:20:31.524039Z",
     "iopub.status.busy": "2023-11-04T23:20:31.522759Z",
     "iopub.status.idle": "2023-11-04T23:20:31.988437Z",
     "shell.execute_reply": "2023-11-04T23:20:31.987183Z",
     "shell.execute_reply.started": "2023-11-04T23:20:31.523988Z"
    },
    "executionInfo": {
     "elapsed": 575,
     "status": "ok",
     "timestamp": 1700384570728,
     "user": {
      "displayName": "Astghik Kostanyan",
      "userId": "15602723312680196541"
     },
     "user_tz": -240
    },
    "id": "0Gu7keyMz6Cw",
    "outputId": "db2ea151-36c4-41b4-ad3f-f49f25c47c2e"
   },
   "outputs": [
    {
     "data": {
      "image/png": "[encoded data removed]",
      "text/plain": [
       "<Figure size 1500x600 with 1 Axes>"
      ]
     },
     "metadata": {},
     "output_type": "display_data"
    }
   ],
   "source": [
    "# first set figure size\n",
    "plt.figure(figsize=(15,6))\n",
    "\n",
    "# call function i create it in cell 10\n",
    "count_plot(x_axis = \"Product line\", hue = \"Month\")"
   ]
  },
  {
   "cell_type": "markdown",
   "metadata": {
    "id": "5IlP6oaBz6Cw"
   },
   "source": [
    "### From above\n",
    "- #### 1. January month\n",
    "  - Sports and travel, Fashion accessories is the most product line sales\n",
    "\n",
    "- #### 2. March month\n",
    "    - Electronic accessories, Home and lifestyle is the most product line sales\n",
    "\n",
    "- #### 3. February month\n",
    "    - Food and beverages, Fashion accessories is the most product line sales\n"
   ]
  },
  {
   "cell_type": "markdown",
   "metadata": {
    "id": "u8SrId_ez6Cw"
   },
   "source": [
    "## Conclusion"
   ]
  },
  {
   "cell_type": "markdown",
   "metadata": {
    "id": "nh1_yekAz6Cw"
   },
   "source": [
    "- #### Customer average rating of approximately `7`. there was no relationship between customer ratings and gross income\n",
    "\n",
    "- #### Among the three branches, Branch `C` as the most profitable in terms of gross income, despite Branch `A` having slightly higher sales\n",
    "\n",
    "- #### `Fashion Accessories` and `Food and Beverages` were the most products. Therefore, must focus on these categories, with electronic accessories\n",
    "\n",
    "- #### The preferred payment method for customers was found to be `Ewallet` and `Cash`\n",
    "\n",
    "- #### `Food and Beverage` proved to be the category generating the highest gross income overall\n",
    "\n",
    "- #### Females  spend the most on `fashion accessories`, while males  preference for `health and beauty` products Females also spending on `sports and travel`, which contributed to the highest overall income\n",
    "\n",
    "- #### `In the end, there was no relationship between customer ratings were not significantly related to any variable`"
   ]
  },
  {
   "cell_type": "markdown",
   "metadata": {},
   "source": [
    "### Project Goals:\n",
    "\n",
    "The project goal is to conduct a comprehensive analysis of a supermarket sales dataset to derive meaningful insights and answers to various business-related questions. The analysis covers aspects such as branch performance, customer behavior, product line sales, and payment preferences.\n",
    "\n",
    "1. **Understand Customer Behavior:**\n",
    "   - Analyze the distribution of customers based on factors like gender, customer type, and preferred payment method.\n",
    "   - Explore how customer ratings relate to other variables and if there's a significant impact on gross income.\n",
    "\n",
    "2. **Branch Performance:**\n",
    "   - Evaluate the performance of each branch in terms of total sales and gross income.\n",
    "   - Identify patterns or differences in customer behavior across branches.\n",
    "\n",
    "3. **Product Line Analysis:**\n",
    "   - Determine which product lines contribute the most to overall sales and gross income.\n",
    "   - Explore variations in product line sales across different branches and months.\n",
    "\n",
    "4. **Time-Based Trends:**\n",
    "   - Analyze sales trends over time, particularly focusing on monthly variations.\n",
    "   - Identify any seasonality or patterns that may influence sales.\n",
    "\n",
    "### Analytical Techniques:\n",
    "\n",
    "The analysis primarily involves descriptive statistics, data visualization, and exploratory data analysis. Specific techniques and tools used include:\n",
    "\n",
    "1. **Descriptive Statistics:**\n",
    "   - Summary statistics (mean, median, standard deviation) for numeric columns like unit price, quantity, tax, total, gross income, and rating.\n",
    "   - Counting unique values and frequency distributions for categorical columns.\n",
    "\n",
    "2. **Data Visualization:**\n",
    "   - Count plots, pie charts, and box plots to visually represent the distribution of categorical and numeric variables.\n",
    "   - Scatter plots to explore relationships between variables, such as customer ratings and gross income.\n",
    "\n",
    "3. **Branch and Product Line Analysis:**\n",
    "   - Box plots and count plots to compare gross income and sales across different branches and product lines.\n",
    "\n",
    "4. **Time-Series Analysis:**\n",
    "   - Creation of a new \"Month\" column and subsequent analysis of gross income variations across different months.\n",
    "\n",
    "While the current analysis focuses on descriptive and exploratory techniques, more advanced statistical methods or machine learning algorithms like regression analysis, clustering (K-means), or classification (KNN) will be considered in future iterations.\n",
    "\n",
    "### Regression Analysis\n",
    "\n",
    "We can perform regression analysis to understand the relationships between different variables. For example, we can explore whether there's a linear relationship between \"Gross Income\" and other numeric variables such as \"Quantity,\" \"Unit Price,\" or \"Rating.\"\n",
    "\n",
    "1. **Clustering (K-means):**\n",
    "\t- We can apply K-means clustering to identify potential customer segments based on their purchasing behavior. This can help in targeting specific customer groups with tailored marketing strategies.\n",
    "\n",
    "2. **Classification (KNN):**\n",
    "\t- We can implement KNN to classify customer types or predict the payment method based on other features. This can help in understanding patterns in customer behavior.\n",
    "    \n",
    "3. **Predictive Modeling:**\n",
    "\t- We can use machine learning algorithms (e.g., linear regression, decision trees, or random forests) to predict future sales or gross income based on historical data. This can assist in making data-driven forecasts.\n",
    "    \n",
    "4. **Correlation Analysis:**\n",
    "\t- We can use statistical tests to quantify the strength and direction of relationships between different numeric variables. This can include Pearson correlation coefficients or other correlation measures."
   ]
  },
  {
   "cell_type": "code",
   "execution_count": null,
   "metadata": {},
   "outputs": [],
   "source": []
  }
 ],
 "metadata": {
  "colab": {
   "provenance": []
  },
  "kaggle": {
   "accelerator": "none",
   "dataSources": [
    {
     "datasetId": 205965,
     "sourceId": 451952,
     "sourceType": "datasetVersion"
    }
   ],
   "dockerImageVersionId": 30558,
   "isGpuEnabled": false,
   "isInternetEnabled": false,
   "language": "python",
   "sourceType": "notebook"
  },
  "kernelspec": {
   "display_name": "Python 3 (ipykernel)",
   "language": "python",
   "name": "python3"
  },
  "language_info": {
   "codemirror_mode": {
    "name": "ipython",
    "version": 3
   },
   "file_extension": ".py",
   "mimetype": "text/x-python",
   "name": "python",
   "nbconvert_exporter": "python",
   "pygments_lexer": "ipython3",
   "version": "3.11.5"
  }
 },
 "nbformat": 4,
 "nbformat_minor": 1
}
